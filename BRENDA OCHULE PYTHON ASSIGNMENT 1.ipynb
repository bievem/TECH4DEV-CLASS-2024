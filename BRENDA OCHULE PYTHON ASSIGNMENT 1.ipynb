{
 "cells": [
  {
   "cell_type": "code",
   "execution_count": 1,
   "id": "bad8a7de",
   "metadata": {},
   "outputs": [
    {
     "name": "stdout",
     "output_type": "stream",
     "text": [
      "\ta\tb\tc\n"
     ]
    }
   ],
   "source": [
    "#1 \n",
    "print(\"\\ta\\tb\\tc\")"
   ]
  },
  {
   "cell_type": "code",
   "execution_count": 2,
   "id": "796dd53c",
   "metadata": {},
   "outputs": [
    {
     "name": "stdout",
     "output_type": "stream",
     "text": [
      "\\\\\n"
     ]
    }
   ],
   "source": [
    "print(\"\\\\\\\\\")"
   ]
  },
  {
   "cell_type": "code",
   "execution_count": 5,
   "id": "7dee8b9b",
   "metadata": {},
   "outputs": [
    {
     "name": "stdout",
     "output_type": "stream",
     "text": [
      "\n"
     ]
    }
   ],
   "source": [
    "print(\"\")"
   ]
  },
  {
   "cell_type": "code",
   "execution_count": 6,
   "id": "39c8c24a",
   "metadata": {},
   "outputs": [
    {
     "name": "stdout",
     "output_type": "stream",
     "text": [
      "\"\"\"\n"
     ]
    }
   ],
   "source": [
    "print(\"\\\"\\\"\\\"\")"
   ]
  },
  {
   "cell_type": "code",
   "execution_count": 12,
   "id": "e6426061",
   "metadata": {},
   "outputs": [
    {
     "name": "stdout",
     "output_type": "stream",
     "text": [
      "C:\n",
      "in\the downward spiral\n"
     ]
    }
   ],
   "source": [
    "print(\"C:\\nin\\the downward spiral\")"
   ]
  },
  {
   "cell_type": "code",
   "execution_count": 16,
   "id": "976229f8",
   "metadata": {},
   "outputs": [
    {
     "name": "stdout",
     "output_type": "stream",
     "text": [
      "/\\//\\\\///\\\\\\\n"
     ]
    }
   ],
   "source": [
    "#2\n",
    "print(\"/\\//\\\\\\\\///\\\\\\\\\\\\\")"
   ]
  },
  {
   "cell_type": "code",
   "execution_count": null,
   "id": "15dd81e2",
   "metadata": {},
   "outputs": [],
   "source": [
    "#3"
   ]
  },
  {
   "cell_type": "code",
   "execution_count": 24,
   "id": "a72be867",
   "metadata": {},
   "outputs": [
    {
     "name": "stdout",
     "output_type": "stream",
     "text": [
      "This quote is from Irish poet\n",
      "\n",
      "Oscar Wilde:\n",
      "\n",
      "\"Music makes one feel so romantic\n",
      "\n",
      "-at least it always gets on one's nerves - which is the\n",
      "\n",
      "same thing nowadays.\"\n"
     ]
    }
   ],
   "source": [
    "print(\"This quote is from Irish poet\")\n",
    "print()\n",
    "print(\"Oscar Wilde:\")\n",
    "print()\n",
    "print(\"\\\"Music makes one feel so romantic\")\n",
    "print()\n",
    "print(\"-at least it always gets on one's nerves - which is the\")\n",
    "print()\n",
    "print(\"same thing nowadays.\\\"\")"
   ]
  },
  {
   "cell_type": "code",
   "execution_count": null,
   "id": "dff73e29",
   "metadata": {},
   "outputs": [],
   "source": [
    "#4"
   ]
  },
  {
   "cell_type": "code",
   "execution_count": 98,
   "id": "79bd0c69",
   "metadata": {},
   "outputs": [
    {
     "name": "stdout",
     "output_type": "stream",
     "text": [
      "A \"quoted\"String is'much' better if\n",
      "\n",
      "you learn\n",
      "\n",
      "the rules of \"escape sequences.\"Also,\"\"\n",
      "\n",
      "represents an empty String.\n",
      "\n",
      "Don't forget: use \\\"\n",
      "\n",
      "instead of \"!\"\n",
      "\n",
      "is not the same as \"\n"
     ]
    }
   ],
   "source": [
    "print(\"A \\\"quoted\\\"String is\"\"'much' better if\")\n",
    "print(\"\")\n",
    "print(\"you learn\")\n",
    "print(\"\")\n",
    "print(\"the rules of \\\"escape sequences.\\\"\" \"Also,\\\"\\\"\")\n",
    "print(\"\")\n",
    "print(\"represents an empty String.\")\n",
    "print(\"\")\n",
    "print(\"Don't forget: use \\\\\\\"\")\n",
    "print(\"\")\n",
    "print(\"instead of \\\"!\\\"\")\n",
    "print(\"\")\n",
    "print(\"is not the same as \\\"\")\n"
   ]
  },
  {
   "cell_type": "code",
   "execution_count": null,
   "id": "44efeb25",
   "metadata": {},
   "outputs": [],
   "source": [
    "#5"
   ]
  },
  {
   "cell_type": "code",
   "execution_count": 99,
   "id": "99222184",
   "metadata": {},
   "outputs": [
    {
     "data": {
      "text/plain": [
       "-1.8"
      ]
     },
     "execution_count": 99,
     "metadata": {},
     "output_type": "execute_result"
    }
   ],
   "source": [
    "-9/5"
   ]
  },
  {
   "cell_type": "code",
   "execution_count": 100,
   "id": "86ed96d9",
   "metadata": {},
   "outputs": [
    {
     "data": {
      "text/plain": [
       "5"
      ]
     },
     "execution_count": 100,
     "metadata": {},
     "output_type": "execute_result"
    }
   ],
   "source": [
    "-695%20"
   ]
  },
  {
   "cell_type": "code",
   "execution_count": 101,
   "id": "0de57c01",
   "metadata": {},
   "outputs": [
    {
     "data": {
      "text/plain": [
       "23"
      ]
     },
     "execution_count": 101,
     "metadata": {},
     "output_type": "execute_result"
    }
   ],
   "source": [
    "-7+6*5"
   ]
  },
  {
   "cell_type": "code",
   "execution_count": 102,
   "id": "4027c18f",
   "metadata": {},
   "outputs": [
    {
     "data": {
      "text/plain": [
       "-37"
      ]
     },
     "execution_count": 102,
     "metadata": {},
     "output_type": "execute_result"
    }
   ],
   "source": [
    "-7*6+5"
   ]
  },
  {
   "cell_type": "code",
   "execution_count": 103,
   "id": "e3d9f048",
   "metadata": {},
   "outputs": [
    {
     "data": {
      "text/plain": [
       "10.4"
      ]
     },
     "execution_count": 103,
     "metadata": {},
     "output_type": "execute_result"
    }
   ],
   "source": [
    "-248%100/5"
   ]
  },
  {
   "cell_type": "code",
   "execution_count": 104,
   "id": "9b4b9cb9",
   "metadata": {},
   "outputs": [
    {
     "data": {
      "text/plain": [
       "-20.25"
      ]
     },
     "execution_count": 104,
     "metadata": {},
     "output_type": "execute_result"
    }
   ],
   "source": [
    "-6*3-9/4"
   ]
  },
  {
   "cell_type": "code",
   "execution_count": 105,
   "id": "1555d9f3",
   "metadata": {},
   "outputs": [
    {
     "data": {
      "text/plain": [
       "8"
      ]
     },
     "execution_count": 105,
     "metadata": {},
     "output_type": "execute_result"
    }
   ],
   "source": [
    "-(5-7)*4"
   ]
  },
  {
   "cell_type": "code",
   "execution_count": 106,
   "id": "42f3f1b0",
   "metadata": {},
   "outputs": [
    {
     "data": {
      "text/plain": [
       "-3"
      ]
     },
     "execution_count": 106,
     "metadata": {},
     "output_type": "execute_result"
    }
   ],
   "source": [
    "-6+(18%(17-12))"
   ]
  }
 ],
 "metadata": {
  "kernelspec": {
   "display_name": "Python 3 (ipykernel)",
   "language": "python",
   "name": "python3"
  },
  "language_info": {
   "codemirror_mode": {
    "name": "ipython",
    "version": 3
   },
   "file_extension": ".py",
   "mimetype": "text/x-python",
   "name": "python",
   "nbconvert_exporter": "python",
   "pygments_lexer": "ipython3",
   "version": "3.11.5"
  }
 },
 "nbformat": 4,
 "nbformat_minor": 5
}
