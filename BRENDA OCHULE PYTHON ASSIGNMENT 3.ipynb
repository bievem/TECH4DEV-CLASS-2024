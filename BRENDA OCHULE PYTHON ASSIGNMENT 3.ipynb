{
 "cells": [
  {
   "cell_type": "code",
   "execution_count": 8,
   "id": "03216696",
   "metadata": {},
   "outputs": [
    {
     "name": "stdout",
     "output_type": "stream",
     "text": [
      "+----+\n",
      "\\    /\n",
      "/    \\\n",
      "\\    /\n",
      "/    \\\n",
      "\\    /\n",
      "/    \\\n",
      "+----+\n"
     ]
    }
   ],
   "source": [
    "#1 PROGRAM TO PRODUCE THE FOLLOWING OUTPUT USING FOR LOOP\n",
    "num_rows = 8\n",
    "for i in range(1):\n",
    "    print(\"+----+\")\n",
    "    for i in range(1,4):\n",
    "        print(\"\\    /\")\n",
    "        for i in range(1):\n",
    "            print(\"/    \\\\\")\n",
    "    print(\"+----+\")\n",
    "               \n",
    "    "
   ]
  },
  {
   "cell_type": "code",
   "execution_count": 20,
   "id": "2dfb7b56",
   "metadata": {},
   "outputs": [
    {
     "name": "stdout",
     "output_type": "stream",
     "text": [
      "**********\n",
      "**********\n",
      "**********\n",
      "**********\n",
      "**********\n"
     ]
    }
   ],
   "source": [
    "#2 PROGRAM TO PRODUCE THE FOLLOWING OUTPUT USING FOR LOOP\n",
    "num_rows = 10\n",
    "for i in range(5): \n",
    "    for num_cols in range(num_rows):\n",
    "        print(\"*\", end=\"\")\n",
    "    print()\n"
   ]
  },
  {
   "cell_type": "code",
   "execution_count": 12,
   "id": "f01b089c",
   "metadata": {},
   "outputs": [
    {
     "name": "stdout",
     "output_type": "stream",
     "text": [
      "1\n",
      "2\n",
      "3\n",
      "4\n",
      "5\n",
      "6\n"
     ]
    }
   ],
   "source": [
    "#3 \n",
    "for i in range(1,7):\n",
    "    print(i)\n",
    "    \n",
    "    "
   ]
  },
  {
   "cell_type": "code",
   "execution_count": 21,
   "id": "72409f8e",
   "metadata": {},
   "outputs": [
    {
     "name": "stdout",
     "output_type": "stream",
     "text": [
      "2\n",
      "4\n",
      "6\n",
      "8\n",
      "10\n",
      "12\n"
     ]
    }
   ],
   "source": [
    "for i in range(2,13,2):\n",
    "    print(i)"
   ]
  },
  {
   "cell_type": "code",
   "execution_count": 26,
   "id": "58c50d73",
   "metadata": {},
   "outputs": [
    {
     "name": "stdout",
     "output_type": "stream",
     "text": [
      "4\n",
      "19\n",
      "34\n",
      "49\n",
      "64\n",
      "79\n"
     ]
    }
   ],
   "source": [
    "for i in range(4,80,15):\n",
    "    print(i)"
   ]
  },
  {
   "cell_type": "code",
   "execution_count": 33,
   "id": "7096f30c",
   "metadata": {},
   "outputs": [
    {
     "name": "stdout",
     "output_type": "stream",
     "text": [
      "30\n",
      "20\n",
      "10\n",
      "0\n",
      "-10\n",
      "-20\n"
     ]
    }
   ],
   "source": [
    "for i in range(30,-21,-10):\n",
    "    print(i)"
   ]
  },
  {
   "cell_type": "code",
   "execution_count": 34,
   "id": "033ab13d",
   "metadata": {},
   "outputs": [
    {
     "name": "stdout",
     "output_type": "stream",
     "text": [
      "-7\n",
      "-3\n",
      "1\n",
      "5\n",
      "9\n",
      "13\n"
     ]
    }
   ],
   "source": [
    "for i in range(-7,14,4):\n",
    "    print(i)"
   ]
  },
  {
   "cell_type": "code",
   "execution_count": 36,
   "id": "4957d5c9",
   "metadata": {},
   "outputs": [
    {
     "name": "stdout",
     "output_type": "stream",
     "text": [
      "97\n",
      "94\n",
      "91\n",
      "88\n",
      "85\n",
      "82\n"
     ]
    }
   ],
   "source": [
    "for i in range(97,81,-3):\n",
    "    print(i)"
   ]
  },
  {
   "cell_type": "code",
   "execution_count": 37,
   "id": "5470183d",
   "metadata": {},
   "outputs": [
    {
     "name": "stdout",
     "output_type": "stream",
     "text": [
      "-4\n",
      "14\n",
      "32\n",
      "50\n",
      "68\n",
      "86\n"
     ]
    }
   ],
   "source": [
    "for i in range(-4,87,18):\n",
    "    print(i)"
   ]
  },
  {
   "cell_type": "code",
   "execution_count": 1,
   "id": "fe00f09d",
   "metadata": {
    "scrolled": true
   },
   "outputs": [
    {
     "name": "stdout",
     "output_type": "stream",
     "text": [
      "1 \n",
      "2 2 \n",
      "3 3 3 \n",
      "4 4 4 4 \n",
      "5 5 5 5 5 \n",
      "6 6 6 6 6 6 \n",
      "7 7 7 7 7 7 7 \n"
     ]
    }
   ],
   "source": [
    "#4  \n",
    "for i in range(1,8):\n",
    "    for j in range(1,i+1):\n",
    "        print(i,end =\" \")\n",
    "    print()\n",
    "    \n",
    "    \n",
    "     \n",
    "    "
   ]
  },
  {
   "cell_type": "code",
   "execution_count": 4,
   "id": "218b3238",
   "metadata": {},
   "outputs": [
    {
     "name": "stdout",
     "output_type": "stream",
     "text": [
      "1400\n"
     ]
    }
   ],
   "source": [
    "#5\n",
    "work_hours = int('60')\n",
    "if work_hours <= 40:\n",
    "    salary = 20 * work_hours\n",
    "    \n",
    "else:\n",
    "    over_salary = 30 * (work_hours - 40)\n",
    "    salary = 20 * 40 + over_salary\n",
    "print(salary)"
   ]
  },
  {
   "cell_type": "code",
   "execution_count": 7,
   "id": "32b4fadf",
   "metadata": {},
   "outputs": [
    {
     "name": "stdout",
     "output_type": "stream",
     "text": [
      "50\n"
     ]
    }
   ],
   "source": [
    "work_hours = int('11')\n",
    "if work_hours <= 8:\n",
    "    salary = 4 * work_hours\n",
    "    \n",
    "else:\n",
    "    over_salary = 6 * (work_hours - 8)\n",
    "    salary = 4 * 8 + over_salary\n",
    "print(salary)"
   ]
  },
  {
   "cell_type": "code",
   "execution_count": 1,
   "id": "efb27e50",
   "metadata": {},
   "outputs": [
    {
     "name": "stdout",
     "output_type": "stream",
     "text": [
      "Area: 50.2655\n"
     ]
    }
   ],
   "source": [
    "#6 program named area that takes as a parameter the radius of a circle and returns the area of the circle\n",
    "from math import pi\n",
    "def circ_area(r):\n",
    "    return round(pi * r**2,4)\n",
    "radius = float(\"4\")\n",
    "area = circ_area(radius)\n",
    "print(\"Area: \" + str(area))\n"
   ]
  },
  {
   "cell_type": "code",
   "execution_count": 3,
   "id": "42e5abdb",
   "metadata": {},
   "outputs": [
    {
     "name": "stdout",
     "output_type": "stream",
     "text": [
      "sum =  13986903\n"
     ]
    }
   ],
   "source": [
    "#7 \n",
    "low = 300\n",
    "high = 5298\n",
    "sum = 0\n",
    "for i in range(low,high):\n",
    "    sum += i\n",
    "print(\"sum = \" , sum)    \n"
   ]
  },
  {
   "cell_type": "code",
   "execution_count": 1,
   "id": "7570999d",
   "metadata": {},
   "outputs": [
    {
     "ename": "KeyboardInterrupt",
     "evalue": "",
     "output_type": "error",
     "traceback": [
      "\u001b[1;31m---------------------------------------------------------------------------\u001b[0m",
      "\u001b[1;31mKeyboardInterrupt\u001b[0m                         Traceback (most recent call last)",
      "Cell \u001b[1;32mIn[1], line 5\u001b[0m\n\u001b[0;32m      3\u001b[0m total_sum \u001b[38;5;241m=\u001b[39m \u001b[38;5;241m0\u001b[39m\n\u001b[0;32m      4\u001b[0m \u001b[38;5;28;01mwhile\u001b[39;00m \u001b[38;5;28;01mTrue\u001b[39;00m:\n\u001b[1;32m----> 5\u001b[0m     number \u001b[38;5;241m=\u001b[39m \u001b[38;5;28mint\u001b[39m(\u001b[38;5;241m5\u001b[39m)\n\u001b[0;32m      6\u001b[0m     \u001b[38;5;28;01mif\u001b[39;00m number \u001b[38;5;241m==\u001b[39m \u001b[38;5;241m0\u001b[39m:\n\u001b[0;32m      7\u001b[0m         \u001b[38;5;28;01mbreak\u001b[39;00m\n",
      "\u001b[1;31mKeyboardInterrupt\u001b[0m: "
     ]
    }
   ],
   "source": [
    "#8 program using while loop that prompts the user for numbers until the user types 0, then outputs their sum\n",
    "number_of_numbers = 0\n",
    "total_sum = 0\n",
    "while True:\n",
    "    number = int(5)\n",
    "    if number == 0:\n",
    "        break\n",
    "    number_of_numbers += 1\n",
    "    total_sum += number\n",
    "print(\"total number of numbers is:\", number_of_numbers)\n",
    "print(\"total sum is:\", total_sum)\n",
    "\n",
    "    "
   ]
  },
  {
   "cell_type": "code",
   "execution_count": null,
   "id": "488eb189",
   "metadata": {},
   "outputs": [],
   "source": [
    " #9 program using while loop that prompts the user for numbers until the user types -1, then outputs their sum\n",
    "\n",
    "number_of_numbers = 0\n",
    "total_sum = 0\n",
    "while True:\n",
    "    number = int(8)\n",
    "    if number == - 1:\n",
    "        break\n",
    "    number_of_numbers += 1\n",
    "    total_sum += number\n",
    "print(\"total number of numbers is:\", number_of_numbers)\n",
    "print(\"total sum is:\", total_sum)\n",
    "\n"
   ]
  },
  {
   "cell_type": "code",
   "execution_count": 36,
   "id": "dbaa4ed1",
   "metadata": {},
   "outputs": [
    {
     "name": "stdout",
     "output_type": "stream",
     "text": [
      "hellohellohello\n"
     ]
    }
   ],
   "source": [
    "#10\n",
    "def repl(str,rep):\n",
    "    if rep <=0:\n",
    "        print(\"Empty String\")\n",
    "    return (str * rep)\n",
    "print(repl(str(\"hello\"), int(3)))"
   ]
  },
  {
   "cell_type": "code",
   "execution_count": 38,
   "id": "925fa332",
   "metadata": {},
   "outputs": [
    {
     "name": "stdout",
     "output_type": "stream",
     "text": [
      "Empty String\n",
      "\n"
     ]
    }
   ],
   "source": [
    "def repl(str,rep):\n",
    "    if rep <=0:\n",
    "        print(\"Empty String\")\n",
    "    return (str * rep)\n",
    "print(repl(str(\"hello\"), int(-1)))"
   ]
  },
  {
   "cell_type": "code",
   "execution_count": 29,
   "id": "7fc29dbe",
   "metadata": {},
   "outputs": [
    {
     "name": "stdout",
     "output_type": "stream",
     "text": [
      "2 3 4 5 6 7 "
     ]
    }
   ],
   "source": [
    "#11 a method called printrange that accepts two integers as arguments and prints the sequence of numbers between the two \n",
    "for i in range(2, 7+1):\n",
    "    print(i, end= \" \")\n"
   ]
  },
  {
   "cell_type": "code",
   "execution_count": 3,
   "id": "a1536d38",
   "metadata": {},
   "outputs": [
    {
     "name": "stdout",
     "output_type": "stream",
     "text": [
      "how many numbers do you want to enter? 4\n",
      "Number 1: 5\n",
      "Number 2: 11\n",
      "Number 3: -2\n",
      "Number 4: 3\n",
      "smallest = -2.0\n",
      "largest = 11.0\n"
     ]
    }
   ],
   "source": [
    "#12 \n",
    "def smallestlargest():\n",
    "    count = int(input(\"how many numbers do you want to enter?\")) \n",
    "    \n",
    "    if count > 0:\n",
    "        num_list = []\n",
    "        for i in range(1, count + 1):\n",
    "            num = float(input(f\"Number {i}: \"))\n",
    "            num_list.append(num)\n",
    "            \n",
    "        smallest = min(num_list)\n",
    "        largest = max(num_list)\n",
    "        \n",
    "        print(f\"smallest = {smallest}\")\n",
    "        print(f\"largest = {largest}\")\n",
    "        \n",
    "    else:\n",
    "        print(\"please enter a valid number greater than 0 for the count.\")\n",
    "# trying the code\n",
    "smallestlargest()"
   ]
  },
  {
   "cell_type": "code",
   "execution_count": 1,
   "id": "3fa2ee38",
   "metadata": {},
   "outputs": [
    {
     "name": "stdout",
     "output_type": "stream",
     "text": [
      "Type a number: note that a negative number breaks the sequence 7\n",
      "Type a number: note that a negative number breaks the sequence4\n",
      "Type a number: note that a negative number breaks the sequence16\n",
      "Type a number: note that a negative number breaks the sequence-4\n",
      "Average was 9.0\n"
     ]
    }
   ],
   "source": [
    "#13 a method called printAverage that uses a sentinel loop to repeatedly prompt the user for numbers\n",
    "def printAverage():\n",
    "    sum = 0\n",
    "    count = 0\n",
    "    \n",
    "    while True:\n",
    "        num = float(input(\"Type a number: note that a negative number breaks the sequence\"))\n",
    "        \n",
    "        if num < 0:\n",
    "            break\n",
    "            \n",
    "        sum += num\n",
    "        count += 1\n",
    "        \n",
    "    if count > 0:\n",
    "        average = sum / count\n",
    "        print(\"Average was\", average)\n",
    "    else:\n",
    "        print(\"No nonnegative numbers were entered.\")\n",
    "printAverage()\n",
    "\n",
    "    "
   ]
  },
  {
   "cell_type": "code",
   "execution_count": 1,
   "id": "82b6e465",
   "metadata": {},
   "outputs": [
    {
     "ename": "NameError",
     "evalue": "name 'unique_numbers' is not defined",
     "output_type": "error",
     "traceback": [
      "\u001b[1;31m---------------------------------------------------------------------------\u001b[0m",
      "\u001b[1;31mNameError\u001b[0m                                 Traceback (most recent call last)",
      "Cell \u001b[1;32mIn[1], line 6\u001b[0m\n\u001b[0;32m      3\u001b[0m     unique_numbers \u001b[38;5;241m=\u001b[39m \u001b[38;5;28mlen\u001b[39m(\u001b[38;5;28mset\u001b[39m([num1, num2, num3]))\n\u001b[0;32m      4\u001b[0m     \u001b[38;5;28;01mreturn\u001b[39;00m unique_numbers\n\u001b[1;32m----> 6\u001b[0m unique_numbers()\n",
      "\u001b[1;31mNameError\u001b[0m: name 'unique_numbers' is not defined"
     ]
    }
   ],
   "source": [
    "#14\n",
    "def numUnique():\n",
    "    unique_numbers = len(set([num1, num2, num3]))\n",
    "    return unique_numbers\n",
    "\n",
    "unique_numbers()\n",
    "    "
   ]
  },
  {
   "cell_type": "code",
   "execution_count": 33,
   "id": "0469ae91",
   "metadata": {},
   "outputs": [
    {
     "name": "stdout",
     "output_type": "stream",
     "text": [
      "[4, 2]\n"
     ]
    }
   ],
   "source": [
    "#15\n",
    "import random\n",
    "def roll_dice(num_dice):\n",
    "    result = []\n",
    "    for i in range(num_dice):\n",
    "        result.append(random.randint(1,6))\n",
    "    return result\n",
    "print(roll_dice(2))\n",
    "\n"
   ]
  },
  {
   "cell_type": "code",
   "execution_count": 6,
   "id": "feab9826",
   "metadata": {},
   "outputs": [
    {
     "name": "stdout",
     "output_type": "stream",
     "text": [
      "Type a number: note that a negatie number breaks the sequence 7\n",
      "Type a number: note that a negatie number breaks the sequence 4\n",
      "Type a number: note that a negatie number breaks the sequence 16\n",
      "Type a number: note that a negatie number breaks the sequence -4\n",
      "Average was 9.0\n"
     ]
    }
   ],
   "source": []
  },
  {
   "cell_type": "code",
   "execution_count": null,
   "id": "db1c421f",
   "metadata": {},
   "outputs": [],
   "source": []
  },
  {
   "cell_type": "code",
   "execution_count": null,
   "id": "e8412d73",
   "metadata": {},
   "outputs": [],
   "source": []
  },
  {
   "cell_type": "code",
   "execution_count": null,
   "id": "1dfebd68",
   "metadata": {},
   "outputs": [],
   "source": []
  },
  {
   "cell_type": "code",
   "execution_count": null,
   "id": "b92d82f9",
   "metadata": {},
   "outputs": [],
   "source": []
  }
 ],
 "metadata": {
  "kernelspec": {
   "display_name": "Python 3 (ipykernel)",
   "language": "python",
   "name": "python3"
  },
  "language_info": {
   "codemirror_mode": {
    "name": "ipython",
    "version": 3
   },
   "file_extension": ".py",
   "mimetype": "text/x-python",
   "name": "python",
   "nbconvert_exporter": "python",
   "pygments_lexer": "ipython3",
   "version": "3.11.5"
  }
 },
 "nbformat": 4,
 "nbformat_minor": 5
}
