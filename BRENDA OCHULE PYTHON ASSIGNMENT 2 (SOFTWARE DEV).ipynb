{
 "cells": [
  {
   "cell_type": "code",
   "execution_count": 2,
   "id": "5e15d0c4",
   "metadata": {},
   "outputs": [
    {
     "name": "stdout",
     "output_type": "stream",
     "text": [
      "23\n"
     ]
    }
   ],
   "source": [
    "#1 find the maximum value in the list\n",
    "list1 =[2, 4, 7, 4, 23, 5, 1, 4, 8, 9]\n",
    "print(max(list1))"
   ]
  },
  {
   "cell_type": "code",
   "execution_count": 3,
   "id": "0fee76e4",
   "metadata": {},
   "outputs": [
    {
     "name": "stdout",
     "output_type": "stream",
     "text": [
      "sum =  246\n",
      "average =  24.6\n"
     ]
    }
   ],
   "source": [
    "#2 calculate the average value of the list\n",
    "list1 =[4, 7, 1, 5, 11, 53, 12, 46, 84, 23]\n",
    "count= sum(list1)\n",
    "avg=count/len(list1)\n",
    "print(\"sum = \", count)\n",
    "print(\"average = \", avg)"
   ]
  },
  {
   "cell_type": "code",
   "execution_count": 33,
   "id": "ed5d8f64",
   "metadata": {},
   "outputs": [
    {
     "name": "stdout",
     "output_type": "stream",
     "text": [
      "[5, 89, 45, 14, 53, 23, 45, 7, 6, 2]\n"
     ]
    }
   ],
   "source": [
    "# to print the given list of integers in reverse order\n",
    "list1= [2, 6, 7, 45, 23, 53, 14, 45, 89, 5]\n",
    "list1.reverse()\n",
    "print(list1)"
   ]
  },
  {
   "cell_type": "code",
   "execution_count": 2,
   "id": "39902437",
   "metadata": {},
   "outputs": [
    {
     "name": "stdout",
     "output_type": "stream",
     "text": [
      "True\n",
      "false\n"
     ]
    }
   ],
   "source": [
    "#4 program to compare lists of integers\n",
    "list1=[1, 2, 3, 4]\n",
    "list2=[5, 6, 7, 8]\n",
    "list1_sorted = sorted(list1)\n",
    "list2_sorted = sorted(list2)\n",
    "if list1_sorted < list2_sorted:\n",
    "    print (\"True\")\n",
    "else:\n",
    "    print (\"False\")\n",
    "if list1_sorted == len(\"list2_sorted\"):\n",
    "    print (\"true\")\n",
    "else:\n",
    "    print (\"false\")"
   ]
  },
  {
   "cell_type": "code",
   "execution_count": 11,
   "id": "defbc3ef",
   "metadata": {},
   "outputs": [
    {
     "name": "stdout",
     "output_type": "stream",
     "text": [
      "[2, 1, 3, 4, 5]\n"
     ]
    }
   ],
   "source": [
    "#5 program to swap two elements in a list\n",
    "list = [1, 2, 3, 4, 5]\n",
    "def swap(list, i, j):\n",
    "    list[i], list[j] = list[j], list[i]\n",
    "    return list\n",
    "print(swap(list, 0, 1))"
   ]
  },
  {
   "cell_type": "code",
   "execution_count": 3,
   "id": "922fa0b6",
   "metadata": {},
   "outputs": [
    {
     "data": {
      "text/plain": [
       "[1, 2, 3, 4, 5, 6, 7, 8, 9, 10]"
      ]
     },
     "execution_count": 3,
     "metadata": {},
     "output_type": "execute_result"
    }
   ],
   "source": [
    "#6\n",
    "l1 = [1, 2, 3, 4, 5]\n",
    "l2 = [6, 7, 8, 9, 10]\n",
    "l3 = l1 + l2\n",
    "l3"
   ]
  },
  {
   "cell_type": "code",
   "execution_count": null,
   "id": "b1989ed6",
   "metadata": {},
   "outputs": [],
   "source": [
    "#7 a program that prints the last index at which the value occurs in the list\n",
    "numbers=[2, 4, 5, 6, 7, 8, 2, 4, 5, 2, 3, 8]\n",
    "index=int(2)\n",
    "      \n"
   ]
  },
  {
   "cell_type": "code",
   "execution_count": 2,
   "id": "070cb830",
   "metadata": {
    "scrolled": true
   },
   "outputs": [
    {
     "name": "stdout",
     "output_type": "stream",
     "text": [
      "5\n"
     ]
    }
   ],
   "source": [
    "#8, calculate range \n",
    "my_list = [1,2,3,4,5]\n",
    "range1 = max(my_list)-min(my_list)\n",
    "print(range1 +1)\n"
   ]
  },
  {
   "cell_type": "code",
   "execution_count": null,
   "id": "5181e32a",
   "metadata": {},
   "outputs": [],
   "source": [
    "#9 a program to print the count of elements between minimum and maximum"
   ]
  },
  {
   "cell_type": "code",
   "execution_count": 1,
   "id": "a20b8ea4",
   "metadata": {},
   "outputs": [
    {
     "name": "stdout",
     "output_type": "stream",
     "text": [
      "min= 4\n",
      "max= 67\n",
      "9\n"
     ]
    }
   ],
   "source": [
    "my_list = [4, 7, 9, 10, 45, 21, 46, 67, 23]\n",
    "print(\"min=\",min(my_list))\n",
    "print(\"max=\",max(my_list))\n",
    "def count(my_list, l, r):\n",
    "    return sum( 1<=x<=r for x in my_list)\n",
    "l = 4\n",
    "r = 67\n",
    "print( count(my_list, l, r))\n",
    "    \n",
    "    "
   ]
  },
  {
   "cell_type": "code",
   "execution_count": 12,
   "id": "d4e352a4",
   "metadata": {},
   "outputs": [
    {
     "name": "stdout",
     "output_type": "stream",
     "text": [
      "given list : [11, 23, 42, 51, 67]\n",
      "true\n",
      "given list: [11, 23, 21, 51, 67]\n",
      "false\n"
     ]
    }
   ],
   "source": [
    "#10 a program that accepts a list of real numbers and prints true if the list is sorted and false otherwise\n",
    "listA = [11,23,42,51,67]\n",
    "print(\"given list :\",listA)\n",
    "listA_copy = listA[:]\n",
    "listA_copy.sort()\n",
    "if (listA == listA_copy):\n",
    "    print(\"true\")\n",
    "else:\n",
    "    print(\"false\")\n",
    "    \n",
    "listB = [11,23,21,51,67] \n",
    "print(\"given list:\",listB)\n",
    "listB_copy = listB[:]\n",
    "listB_copy.sort()\n",
    "if (listB == listB_copy):\n",
    "    print(\"true\")\n",
    "else:\n",
    "    print(\"false\")\n",
    "    "
   ]
  },
  {
   "cell_type": "code",
   "execution_count": null,
   "id": "22e8afee",
   "metadata": {},
   "outputs": [],
   "source": []
  },
  {
   "cell_type": "code",
   "execution_count": null,
   "id": "9a3fe77c",
   "metadata": {},
   "outputs": [],
   "source": []
  },
  {
   "cell_type": "code",
   "execution_count": null,
   "id": "7241ea73",
   "metadata": {},
   "outputs": [],
   "source": []
  }
 ],
 "metadata": {
  "kernelspec": {
   "display_name": "Python 3 (ipykernel)",
   "language": "python",
   "name": "python3"
  },
  "language_info": {
   "codemirror_mode": {
    "name": "ipython",
    "version": 3
   },
   "file_extension": ".py",
   "mimetype": "text/x-python",
   "name": "python",
   "nbconvert_exporter": "python",
   "pygments_lexer": "ipython3",
   "version": "3.11.5"
  }
 },
 "nbformat": 4,
 "nbformat_minor": 5
}
